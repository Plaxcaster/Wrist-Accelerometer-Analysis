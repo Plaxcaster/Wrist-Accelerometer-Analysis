{
 "cells": [
  {
   "cell_type": "markdown",
   "id": "15037abe",
   "metadata": {},
   "source": [
    "# Data Science Project - Wrist Accelerometer Analysis\n",
    "Institution: Instituto Federal de Brasília  \n",
    "Developer: Pedro Plá  \n",
    "Dataset: Public Dataset of Accelerometer Data for Human Motion Primitives Detection (HPD)"
   ]
  },
  {
   "cell_type": "markdown",
   "id": "bdd885ce",
   "metadata": {},
   "source": [
    "### Importing of relevant python libraries"
   ]
  },
  {
   "cell_type": "code",
   "execution_count": 2,
   "id": "b8e05658",
   "metadata": {},
   "outputs": [],
   "source": [
    "import pandas as pd\n",
    "import numpy as np\n",
    "import matplotlib.pyplot as plt\n",
    "import regex as re #For extracting data from file names\n",
    "import glob2 as glob #For looping over directories\n",
    "import os #For looping over directories"
   ]
  },
  {
   "cell_type": "markdown",
   "id": "b2593709",
   "metadata": {},
   "source": [
    "# Data Gathering"
   ]
  },
  {
   "cell_type": "markdown",
   "id": "a0f3efd9",
   "metadata": {},
   "source": [
    "### Dataframe creation framework\n",
    "Here we create the framework for importing this not fully organized data into a dataframe, in this step, we use read_csv to create a single dataframe from a single file, later we will use this tested framework to iterate over all files."
   ]
  },
  {
   "cell_type": "code",
   "execution_count": 4,
   "id": "9377de20",
   "metadata": {},
   "outputs": [
    {
     "data": {
      "text/html": [
       "<div>\n",
       "<style scoped>\n",
       "    .dataframe tbody tr th:only-of-type {\n",
       "        vertical-align: middle;\n",
       "    }\n",
       "\n",
       "    .dataframe tbody tr th {\n",
       "        vertical-align: top;\n",
       "    }\n",
       "\n",
       "    .dataframe thead th {\n",
       "        text-align: right;\n",
       "    }\n",
       "</style>\n",
       "<table border=\"1\" class=\"dataframe\">\n",
       "  <thead>\n",
       "    <tr style=\"text-align: right;\">\n",
       "      <th></th>\n",
       "      <th>x_axis</th>\n",
       "      <th>y_axis</th>\n",
       "      <th>z_axis</th>\n",
       "      <th>file_name</th>\n",
       "      <th>movement</th>\n",
       "      <th>sex</th>\n",
       "      <th>date</th>\n",
       "      <th>time</th>\n",
       "    </tr>\n",
       "  </thead>\n",
       "  <tbody>\n",
       "    <tr>\n",
       "      <th>0</th>\n",
       "      <td>22</td>\n",
       "      <td>49</td>\n",
       "      <td>35</td>\n",
       "      <td>Brush_teeth/Accelerometer-2011-04-11-13-28-18-...</td>\n",
       "      <td>Brush_teeth</td>\n",
       "      <td>f</td>\n",
       "      <td>2011-04-11</td>\n",
       "      <td>13h28min18</td>\n",
       "    </tr>\n",
       "    <tr>\n",
       "      <th>1</th>\n",
       "      <td>22</td>\n",
       "      <td>52</td>\n",
       "      <td>35</td>\n",
       "      <td>Brush_teeth/Accelerometer-2011-04-11-13-28-18-...</td>\n",
       "      <td>Brush_teeth</td>\n",
       "      <td>f</td>\n",
       "      <td>2011-04-11</td>\n",
       "      <td>13h28min18</td>\n",
       "    </tr>\n",
       "    <tr>\n",
       "      <th>2</th>\n",
       "      <td>22</td>\n",
       "      <td>52</td>\n",
       "      <td>35</td>\n",
       "      <td>Brush_teeth/Accelerometer-2011-04-11-13-28-18-...</td>\n",
       "      <td>Brush_teeth</td>\n",
       "      <td>f</td>\n",
       "      <td>2011-04-11</td>\n",
       "      <td>13h28min18</td>\n",
       "    </tr>\n",
       "    <tr>\n",
       "      <th>3</th>\n",
       "      <td>21</td>\n",
       "      <td>52</td>\n",
       "      <td>34</td>\n",
       "      <td>Brush_teeth/Accelerometer-2011-04-11-13-28-18-...</td>\n",
       "      <td>Brush_teeth</td>\n",
       "      <td>f</td>\n",
       "      <td>2011-04-11</td>\n",
       "      <td>13h28min18</td>\n",
       "    </tr>\n",
       "    <tr>\n",
       "      <th>4</th>\n",
       "      <td>22</td>\n",
       "      <td>51</td>\n",
       "      <td>34</td>\n",
       "      <td>Brush_teeth/Accelerometer-2011-04-11-13-28-18-...</td>\n",
       "      <td>Brush_teeth</td>\n",
       "      <td>f</td>\n",
       "      <td>2011-04-11</td>\n",
       "      <td>13h28min18</td>\n",
       "    </tr>\n",
       "  </tbody>\n",
       "</table>\n",
       "</div>"
      ],
      "text/plain": [
       "   x_axis  y_axis  z_axis                                          file_name  \\\n",
       "0      22      49      35  Brush_teeth/Accelerometer-2011-04-11-13-28-18-...   \n",
       "1      22      52      35  Brush_teeth/Accelerometer-2011-04-11-13-28-18-...   \n",
       "2      22      52      35  Brush_teeth/Accelerometer-2011-04-11-13-28-18-...   \n",
       "3      21      52      34  Brush_teeth/Accelerometer-2011-04-11-13-28-18-...   \n",
       "4      22      51      34  Brush_teeth/Accelerometer-2011-04-11-13-28-18-...   \n",
       "\n",
       "      movement sex        date        time  \n",
       "0  Brush_teeth   f  2011-04-11  13h28min18  \n",
       "1  Brush_teeth   f  2011-04-11  13h28min18  \n",
       "2  Brush_teeth   f  2011-04-11  13h28min18  \n",
       "3  Brush_teeth   f  2011-04-11  13h28min18  \n",
       "4  Brush_teeth   f  2011-04-11  13h28min18  "
      ]
     },
     "execution_count": 4,
     "metadata": {},
     "output_type": "execute_result"
    }
   ],
   "source": [
    "folder = 'Brush_teeth'\n",
    "file = \"Brush_teeth/Accelerometer-2011-04-11-13-28-18-brush_teeth-f1.txt\"\n",
    "file_re = re.split('[/ -]',file)\n",
    "df = pd.read_csv(file, sep=' ')\n",
    "df.columns = ('x_axis','y_axis','z_axis')\n",
    "df['file_name']=file\n",
    "df['movement'] = file_re[0]\n",
    "df['sex'] = file[-6]\n",
    "df['date'] = file_re[2]+'-'+file_re[3]+'-'+file_re[4]\n",
    "df['time'] =  file_re[5]+'h'+file_re[6]+'min'+file_re[7]\n",
    "df.head()"
   ]
  },
  {
   "cell_type": "markdown",
   "id": "c8dd19a8",
   "metadata": {},
   "source": [
    "### Looping through all files"
   ]
  },
  {
   "cell_type": "markdown",
   "id": "406f945f",
   "metadata": {},
   "source": [
    "Goes through all directories and files on the main movements file which contains all non-model measurement data:"
   ]
  },
  {
   "cell_type": "code",
   "execution_count": 5,
   "id": "cc91e9ca",
   "metadata": {},
   "outputs": [
    {
     "name": "stdout",
     "output_type": "stream",
     "text": [
      "['Brush_teeth', 'Climb_stairs', 'Comb_hair', 'Descend_stairs', 'Drink_glass', 'Eat_meat', 'Eat_soup', 'Getup_bed', 'Liedown_bed', 'Pour_water', 'Sitdown_chair', 'Standup_chair', 'Use_telephone', 'Walk']\n"
     ]
    }
   ],
   "source": [
    "movements_folder = os.listdir('Movements')\n",
    "print(movements_folder)"
   ]
  },
  {
   "cell_type": "markdown",
   "id": "150a7b5e",
   "metadata": {},
   "source": [
    "####  Here, we create the df_medidas concatenated dataframe by looping the function we tested on the framework creation phase. For verification purposes there's a alert for each added directory and a counter for how many files were read and aggregated"
   ]
  },
  {
   "cell_type": "code",
   "execution_count": 6,
   "id": "d8ae03b3",
   "metadata": {},
   "outputs": [
    {
     "name": "stdout",
     "output_type": "stream",
     "text": [
      "Brush_teeth added\n",
      "Climb_stairs added\n",
      "Comb_hair added\n",
      "Descend_stairs added\n",
      "Drink_glass added\n",
      "Eat_meat added\n",
      "Eat_soup added\n",
      "Getup_bed added\n",
      "Liedown_bed added\n",
      "Pour_water added\n",
      "Sitdown_chair added\n",
      "Standup_chair added\n",
      "Use_telephone added\n",
      "Walk added\n",
      "Concatenated a total of 839 files\n"
     ]
    }
   ],
   "source": [
    "small_dfs = []\n",
    "total_files = 0\n",
    "for j in range(len(movements_folder)):\n",
    "    folder = movements_folder[j]\n",
    "    print(folder+ ' added')\n",
    "\n",
    "    files=os.listdir(movements_folder[j])\n",
    "    for i in range(len(os.listdir(movements_folder[j]))):\n",
    "        file = folder+'/'+files[i]\n",
    "        file_re = re.split('[/ -]',file)\n",
    "        df = pd.read_csv(file, sep=' ')\n",
    "        df.columns = ('x_axis','y_axis','z_axis')\n",
    "        df['file_name']=file\n",
    "        df['movement'] = file_re[0]\n",
    "        df['sex'] = file_re[-1][0]\n",
    "        df['date'] = file_re[2]+'-'+file_re[3]+'-'+file_re[4]\n",
    "        df['time'] =  file_re[5]+'h'+file_re[6]+'min'+file_re[7]\n",
    "        small_dfs.append(df)\n",
    "        total_files = total_files+1\n",
    "\n",
    "df_medidas = pd.concat(small_dfs,ignore_index=True)\n",
    "print('Concatenated a total of '+str(total_files)+ ' files')"
   ]
  },
  {
   "cell_type": "markdown",
   "id": "38a2bbad",
   "metadata": {},
   "source": [
    "This is the how the df_medidas file looks, we'll also apply some measurements for dinamically adjusting datatypes for size reduction"
   ]
  },
  {
   "cell_type": "code",
   "execution_count": 7,
   "id": "56e40c7f",
   "metadata": {},
   "outputs": [
    {
     "data": {
      "text/html": [
       "<div>\n",
       "<style scoped>\n",
       "    .dataframe tbody tr th:only-of-type {\n",
       "        vertical-align: middle;\n",
       "    }\n",
       "\n",
       "    .dataframe tbody tr th {\n",
       "        vertical-align: top;\n",
       "    }\n",
       "\n",
       "    .dataframe thead th {\n",
       "        text-align: right;\n",
       "    }\n",
       "</style>\n",
       "<table border=\"1\" class=\"dataframe\">\n",
       "  <thead>\n",
       "    <tr style=\"text-align: right;\">\n",
       "      <th></th>\n",
       "      <th>x_axis</th>\n",
       "      <th>y_axis</th>\n",
       "      <th>z_axis</th>\n",
       "      <th>file_name</th>\n",
       "      <th>movement</th>\n",
       "      <th>sex</th>\n",
       "      <th>date</th>\n",
       "      <th>time</th>\n",
       "    </tr>\n",
       "  </thead>\n",
       "  <tbody>\n",
       "    <tr>\n",
       "      <th>0</th>\n",
       "      <td>22</td>\n",
       "      <td>49</td>\n",
       "      <td>35</td>\n",
       "      <td>Brush_teeth/Accelerometer-2011-04-11-13-28-18-...</td>\n",
       "      <td>Brush_teeth</td>\n",
       "      <td>f</td>\n",
       "      <td>2011-04-11</td>\n",
       "      <td>13h28min18</td>\n",
       "    </tr>\n",
       "    <tr>\n",
       "      <th>1</th>\n",
       "      <td>22</td>\n",
       "      <td>52</td>\n",
       "      <td>35</td>\n",
       "      <td>Brush_teeth/Accelerometer-2011-04-11-13-28-18-...</td>\n",
       "      <td>Brush_teeth</td>\n",
       "      <td>f</td>\n",
       "      <td>2011-04-11</td>\n",
       "      <td>13h28min18</td>\n",
       "    </tr>\n",
       "    <tr>\n",
       "      <th>2</th>\n",
       "      <td>22</td>\n",
       "      <td>52</td>\n",
       "      <td>35</td>\n",
       "      <td>Brush_teeth/Accelerometer-2011-04-11-13-28-18-...</td>\n",
       "      <td>Brush_teeth</td>\n",
       "      <td>f</td>\n",
       "      <td>2011-04-11</td>\n",
       "      <td>13h28min18</td>\n",
       "    </tr>\n",
       "    <tr>\n",
       "      <th>3</th>\n",
       "      <td>21</td>\n",
       "      <td>52</td>\n",
       "      <td>34</td>\n",
       "      <td>Brush_teeth/Accelerometer-2011-04-11-13-28-18-...</td>\n",
       "      <td>Brush_teeth</td>\n",
       "      <td>f</td>\n",
       "      <td>2011-04-11</td>\n",
       "      <td>13h28min18</td>\n",
       "    </tr>\n",
       "    <tr>\n",
       "      <th>4</th>\n",
       "      <td>22</td>\n",
       "      <td>51</td>\n",
       "      <td>34</td>\n",
       "      <td>Brush_teeth/Accelerometer-2011-04-11-13-28-18-...</td>\n",
       "      <td>Brush_teeth</td>\n",
       "      <td>f</td>\n",
       "      <td>2011-04-11</td>\n",
       "      <td>13h28min18</td>\n",
       "    </tr>\n",
       "  </tbody>\n",
       "</table>\n",
       "</div>"
      ],
      "text/plain": [
       "   x_axis  y_axis  z_axis                                          file_name  \\\n",
       "0      22      49      35  Brush_teeth/Accelerometer-2011-04-11-13-28-18-...   \n",
       "1      22      52      35  Brush_teeth/Accelerometer-2011-04-11-13-28-18-...   \n",
       "2      22      52      35  Brush_teeth/Accelerometer-2011-04-11-13-28-18-...   \n",
       "3      21      52      34  Brush_teeth/Accelerometer-2011-04-11-13-28-18-...   \n",
       "4      22      51      34  Brush_teeth/Accelerometer-2011-04-11-13-28-18-...   \n",
       "\n",
       "      movement sex        date        time  \n",
       "0  Brush_teeth   f  2011-04-11  13h28min18  \n",
       "1  Brush_teeth   f  2011-04-11  13h28min18  \n",
       "2  Brush_teeth   f  2011-04-11  13h28min18  \n",
       "3  Brush_teeth   f  2011-04-11  13h28min18  \n",
       "4  Brush_teeth   f  2011-04-11  13h28min18  "
      ]
     },
     "execution_count": 7,
     "metadata": {},
     "output_type": "execute_result"
    }
   ],
   "source": [
    "df_medidas.head()"
   ]
  },
  {
   "cell_type": "code",
   "execution_count": 9,
   "id": "4565ecec",
   "metadata": {},
   "outputs": [
    {
     "name": "stdout",
     "output_type": "stream",
     "text": [
      "<class 'pandas.core.frame.DataFrame'>\n",
      "RangeIndex: 445690 entries, 0 to 445689\n",
      "Data columns (total 8 columns):\n",
      " #   Column     Non-Null Count   Dtype \n",
      "---  ------     --------------   ----- \n",
      " 0   x_axis     445690 non-null  int64 \n",
      " 1   y_axis     445690 non-null  int64 \n",
      " 2   z_axis     445690 non-null  int64 \n",
      " 3   file_name  445690 non-null  object\n",
      " 4   movement   445690 non-null  object\n",
      " 5   sex        445690 non-null  object\n",
      " 6   date       445690 non-null  object\n",
      " 7   time       445690 non-null  object\n",
      "dtypes: int64(3), object(5)\n",
      "memory usage: 222.6 MB\n"
     ]
    }
   ],
   "source": [
    "df_medidas.info(memory_usage = \"deep\")"
   ]
  },
  {
   "cell_type": "code",
   "execution_count": 10,
   "id": "468bad55",
   "metadata": {},
   "outputs": [],
   "source": [
    "#Downcasting, attempts to reduce dataframe size by changing dtype as possible\n",
    "for column in df_medidas:\n",
    " if df_medidas[column].dtype == 'int64':\n",
    "     df_medidas[column]=pd.to_numeric(df_medidas[column], downcast='integer')"
   ]
  },
  {
   "cell_type": "markdown",
   "id": "3cfa6477",
   "metadata": {},
   "source": [
    "Below we can see the final datatypes and final filesize"
   ]
  },
  {
   "cell_type": "code",
   "execution_count": 12,
   "id": "3863377f",
   "metadata": {
    "scrolled": true
   },
   "outputs": [
    {
     "name": "stdout",
     "output_type": "stream",
     "text": [
      "<class 'pandas.core.frame.DataFrame'>\n",
      "RangeIndex: 445690 entries, 0 to 445689\n",
      "Data columns (total 8 columns):\n",
      " #   Column     Non-Null Count   Dtype \n",
      "---  ------     --------------   ----- \n",
      " 0   x_axis     445690 non-null  int8  \n",
      " 1   y_axis     445690 non-null  int8  \n",
      " 2   z_axis     445690 non-null  int8  \n",
      " 3   file_name  445690 non-null  object\n",
      " 4   movement   445690 non-null  object\n",
      " 5   sex        445690 non-null  object\n",
      " 6   date       445690 non-null  object\n",
      " 7   time       445690 non-null  object\n",
      "dtypes: int8(3), object(5)\n",
      "memory usage: 213.7 MB\n"
     ]
    }
   ],
   "source": [
    "df_medidas.info(memory_usage = \"deep\")"
   ]
  },
  {
   "cell_type": "markdown",
   "id": "58d9e921",
   "metadata": {},
   "source": [
    "Exports the final csv file:"
   ]
  },
  {
   "cell_type": "code",
   "execution_count": 34,
   "id": "88d8246e",
   "metadata": {},
   "outputs": [],
   "source": [
    "df_medidas.to_csv('df_medidas.csv')"
   ]
  },
  {
   "cell_type": "markdown",
   "id": "34a79e73",
   "metadata": {},
   "source": [
    "# Data Exploration"
   ]
  },
  {
   "attachments": {
    "image-2.png": {
     "image/png": "[encoded data removed]"
    }
   },
   "cell_type": "markdown",
   "id": "59f7a9f4",
   "metadata": {},
   "source": [
    "From MANUAL.txt included with the dataset, we have the information that the accelerometer is attached to the right wrist that the axes are.    \n",
    "\t\t   x axis: pointing toward the hand;  \n",
    "\t\t   y axis: pointing toward the left;  \n",
    "\t\t   z axis: perpendicular to the plane of the hand.  \n",
    "Also included in the dataset, we have the date and time that the measurements were collected as well as the gender of the volunteer.\n",
    "![image-2.png](attachment:image-2.png)"
   ]
  },
  {
   "cell_type": "code",
   "execution_count": 14,
   "id": "71bbe72a",
   "metadata": {},
   "outputs": [],
   "source": [
    "df=df_medidas"
   ]
  },
  {
   "cell_type": "markdown",
   "id": "403df16d",
   "metadata": {},
   "source": [
    "### Overview"
   ]
  },
  {
   "cell_type": "code",
   "execution_count": 16,
   "id": "241a303d",
   "metadata": {},
   "outputs": [
    {
     "name": "stdout",
     "output_type": "stream",
     "text": [
      "<class 'pandas.core.frame.DataFrame'>\n",
      "RangeIndex: 445690 entries, 0 to 445689\n",
      "Data columns (total 8 columns):\n",
      " #   Column     Non-Null Count   Dtype \n",
      "---  ------     --------------   ----- \n",
      " 0   x_axis     445690 non-null  int8  \n",
      " 1   y_axis     445690 non-null  int8  \n",
      " 2   z_axis     445690 non-null  int8  \n",
      " 3   file_name  445690 non-null  object\n",
      " 4   movement   445690 non-null  object\n",
      " 5   sex        445690 non-null  object\n",
      " 6   date       445690 non-null  object\n",
      " 7   time       445690 non-null  object\n",
      "dtypes: int8(3), object(5)\n",
      "memory usage: 213.7 MB\n"
     ]
    }
   ],
   "source": [
    "df.info(memory_usage = \"deep\")"
   ]
  },
  {
   "cell_type": "markdown",
   "id": "cb90dcbb",
   "metadata": {},
   "source": [
    "### 1 - Breakdown of sex and movement"
   ]
  },
  {
   "cell_type": "code",
   "execution_count": 17,
   "id": "89f7decd",
   "metadata": {},
   "outputs": [
    {
     "data": {
      "text/html": [
       "<div>\n",
       "<style scoped>\n",
       "    .dataframe tbody tr th:only-of-type {\n",
       "        vertical-align: middle;\n",
       "    }\n",
       "\n",
       "    .dataframe tbody tr th {\n",
       "        vertical-align: top;\n",
       "    }\n",
       "\n",
       "    .dataframe thead th {\n",
       "        text-align: right;\n",
       "    }\n",
       "</style>\n",
       "<table border=\"1\" class=\"dataframe\">\n",
       "  <thead>\n",
       "    <tr style=\"text-align: right;\">\n",
       "      <th></th>\n",
       "      <th>sex</th>\n",
       "      <th>occurrences</th>\n",
       "    </tr>\n",
       "  </thead>\n",
       "  <tbody>\n",
       "    <tr>\n",
       "      <th>0</th>\n",
       "      <td>f</td>\n",
       "      <td>282666</td>\n",
       "    </tr>\n",
       "    <tr>\n",
       "      <th>1</th>\n",
       "      <td>m</td>\n",
       "      <td>163024</td>\n",
       "    </tr>\n",
       "  </tbody>\n",
       "</table>\n",
       "</div>"
      ],
      "text/plain": [
       "  sex  occurrences\n",
       "0   f       282666\n",
       "1   m       163024"
      ]
     },
     "execution_count": 17,
     "metadata": {},
     "output_type": "execute_result"
    }
   ],
   "source": [
    "df_sex = (df['sex'].value_counts()).rename_axis('sex').reset_index(name='occurrences')\n",
    "df_sex"
   ]
  },
  {
   "cell_type": "code",
   "execution_count": 18,
   "id": "2ef5af1e",
   "metadata": {},
   "outputs": [],
   "source": [
    "total_rows = df_sex['occurrences'].sum(axis=0)\n"
   ]
  },
  {
   "cell_type": "code",
   "execution_count": 20,
   "id": "47190995",
   "metadata": {},
   "outputs": [
    {
     "data": {
      "text/html": [
       "<div>\n",
       "<style scoped>\n",
       "    .dataframe tbody tr th:only-of-type {\n",
       "        vertical-align: middle;\n",
       "    }\n",
       "\n",
       "    .dataframe tbody tr th {\n",
       "        vertical-align: top;\n",
       "    }\n",
       "\n",
       "    .dataframe thead th {\n",
       "        text-align: right;\n",
       "    }\n",
       "</style>\n",
       "<table border=\"1\" class=\"dataframe\">\n",
       "  <thead>\n",
       "    <tr style=\"text-align: right;\">\n",
       "      <th></th>\n",
       "      <th>sex</th>\n",
       "      <th>occurrences</th>\n",
       "      <th>frequency(percentage)</th>\n",
       "    </tr>\n",
       "  </thead>\n",
       "  <tbody>\n",
       "    <tr>\n",
       "      <th>0</th>\n",
       "      <td>f</td>\n",
       "      <td>282666</td>\n",
       "      <td>63.42</td>\n",
       "    </tr>\n",
       "    <tr>\n",
       "      <th>1</th>\n",
       "      <td>m</td>\n",
       "      <td>163024</td>\n",
       "      <td>36.58</td>\n",
       "    </tr>\n",
       "  </tbody>\n",
       "</table>\n",
       "</div>"
      ],
      "text/plain": [
       "  sex  occurrences  frequency(percentage)\n",
       "0   f       282666                  63.42\n",
       "1   m       163024                  36.58"
      ]
     },
     "execution_count": 20,
     "metadata": {},
     "output_type": "execute_result"
    }
   ],
   "source": [
    "df_sex['frequency(percentage)'] = 100*df_sex['occurrences']/total_rows\n",
    "df_sex['frequency(percentage)'] = df_sex['frequency(percentage)'].round(decimals=2)\n",
    "df_sex"
   ]
  },
  {
   "cell_type": "markdown",
   "id": "2a314c11",
   "metadata": {},
   "source": [
    "We have on the table above, the number of measurements collected for male and female volunteers, as well as their relllative frequency when categorized as such"
   ]
  },
  {
   "cell_type": "code",
   "execution_count": 21,
   "id": "71cda5cd",
   "metadata": {},
   "outputs": [
    {
     "data": {
      "text/html": [
       "<div>\n",
       "<style scoped>\n",
       "    .dataframe tbody tr th:only-of-type {\n",
       "        vertical-align: middle;\n",
       "    }\n",
       "\n",
       "    .dataframe tbody tr th {\n",
       "        vertical-align: top;\n",
       "    }\n",
       "\n",
       "    .dataframe thead th {\n",
       "        text-align: right;\n",
       "    }\n",
       "</style>\n",
       "<table border=\"1\" class=\"dataframe\">\n",
       "  <thead>\n",
       "    <tr style=\"text-align: right;\">\n",
       "      <th></th>\n",
       "      <th>movement</th>\n",
       "      <th>occurrences</th>\n",
       "    </tr>\n",
       "  </thead>\n",
       "  <tbody>\n",
       "    <tr>\n",
       "      <th>0</th>\n",
       "      <td>Walk</td>\n",
       "      <td>92154</td>\n",
       "    </tr>\n",
       "    <tr>\n",
       "      <th>1</th>\n",
       "      <td>Getup_bed</td>\n",
       "      <td>45700</td>\n",
       "    </tr>\n",
       "    <tr>\n",
       "      <th>2</th>\n",
       "      <td>Drink_glass</td>\n",
       "      <td>42692</td>\n",
       "    </tr>\n",
       "    <tr>\n",
       "      <th>3</th>\n",
       "      <td>Pour_water</td>\n",
       "      <td>41573</td>\n",
       "    </tr>\n",
       "    <tr>\n",
       "      <th>4</th>\n",
       "      <td>Climb_stairs</td>\n",
       "      <td>40156</td>\n",
       "    </tr>\n",
       "    <tr>\n",
       "      <th>5</th>\n",
       "      <td>Eat_meat</td>\n",
       "      <td>31231</td>\n",
       "    </tr>\n",
       "    <tr>\n",
       "      <th>6</th>\n",
       "      <td>Brush_teeth</td>\n",
       "      <td>29817</td>\n",
       "    </tr>\n",
       "    <tr>\n",
       "      <th>7</th>\n",
       "      <td>Standup_chair</td>\n",
       "      <td>25315</td>\n",
       "    </tr>\n",
       "    <tr>\n",
       "      <th>8</th>\n",
       "      <td>Sitdown_chair</td>\n",
       "      <td>24936</td>\n",
       "    </tr>\n",
       "    <tr>\n",
       "      <th>9</th>\n",
       "      <td>Comb_hair</td>\n",
       "      <td>23473</td>\n",
       "    </tr>\n",
       "    <tr>\n",
       "      <th>10</th>\n",
       "      <td>Descend_stairs</td>\n",
       "      <td>15333</td>\n",
       "    </tr>\n",
       "    <tr>\n",
       "      <th>11</th>\n",
       "      <td>Use_telephone</td>\n",
       "      <td>15212</td>\n",
       "    </tr>\n",
       "    <tr>\n",
       "      <th>12</th>\n",
       "      <td>Liedown_bed</td>\n",
       "      <td>11418</td>\n",
       "    </tr>\n",
       "    <tr>\n",
       "      <th>13</th>\n",
       "      <td>Eat_soup</td>\n",
       "      <td>6680</td>\n",
       "    </tr>\n",
       "  </tbody>\n",
       "</table>\n",
       "</div>"
      ],
      "text/plain": [
       "          movement  occurrences\n",
       "0             Walk        92154\n",
       "1        Getup_bed        45700\n",
       "2      Drink_glass        42692\n",
       "3       Pour_water        41573\n",
       "4     Climb_stairs        40156\n",
       "5         Eat_meat        31231\n",
       "6      Brush_teeth        29817\n",
       "7    Standup_chair        25315\n",
       "8    Sitdown_chair        24936\n",
       "9        Comb_hair        23473\n",
       "10  Descend_stairs        15333\n",
       "11   Use_telephone        15212\n",
       "12     Liedown_bed        11418\n",
       "13        Eat_soup         6680"
      ]
     },
     "execution_count": 21,
     "metadata": {},
     "output_type": "execute_result"
    }
   ],
   "source": [
    "df_movement = (df['movement'].value_counts()).rename_axis('movement').reset_index(name='occurrences')\n",
    "df_movement"
   ]
  },
  {
   "cell_type": "code",
   "execution_count": 23,
   "id": "d67ed53e",
   "metadata": {
    "scrolled": false
   },
   "outputs": [
    {
     "data": {
      "text/html": [
       "<div>\n",
       "<style scoped>\n",
       "    .dataframe tbody tr th:only-of-type {\n",
       "        vertical-align: middle;\n",
       "    }\n",
       "\n",
       "    .dataframe tbody tr th {\n",
       "        vertical-align: top;\n",
       "    }\n",
       "\n",
       "    .dataframe thead th {\n",
       "        text-align: right;\n",
       "    }\n",
       "</style>\n",
       "<table border=\"1\" class=\"dataframe\">\n",
       "  <thead>\n",
       "    <tr style=\"text-align: right;\">\n",
       "      <th></th>\n",
       "      <th>movement</th>\n",
       "      <th>occurrences</th>\n",
       "      <th>frequency(percentage)</th>\n",
       "    </tr>\n",
       "  </thead>\n",
       "  <tbody>\n",
       "    <tr>\n",
       "      <th>0</th>\n",
       "      <td>Walk</td>\n",
       "      <td>92154</td>\n",
       "      <td>20.68</td>\n",
       "    </tr>\n",
       "    <tr>\n",
       "      <th>1</th>\n",
       "      <td>Getup_bed</td>\n",
       "      <td>45700</td>\n",
       "      <td>10.25</td>\n",
       "    </tr>\n",
       "    <tr>\n",
       "      <th>2</th>\n",
       "      <td>Drink_glass</td>\n",
       "      <td>42692</td>\n",
       "      <td>9.58</td>\n",
       "    </tr>\n",
       "    <tr>\n",
       "      <th>3</th>\n",
       "      <td>Pour_water</td>\n",
       "      <td>41573</td>\n",
       "      <td>9.33</td>\n",
       "    </tr>\n",
       "    <tr>\n",
       "      <th>4</th>\n",
       "      <td>Climb_stairs</td>\n",
       "      <td>40156</td>\n",
       "      <td>9.01</td>\n",
       "    </tr>\n",
       "    <tr>\n",
       "      <th>5</th>\n",
       "      <td>Eat_meat</td>\n",
       "      <td>31231</td>\n",
       "      <td>7.01</td>\n",
       "    </tr>\n",
       "    <tr>\n",
       "      <th>6</th>\n",
       "      <td>Brush_teeth</td>\n",
       "      <td>29817</td>\n",
       "      <td>6.69</td>\n",
       "    </tr>\n",
       "    <tr>\n",
       "      <th>7</th>\n",
       "      <td>Standup_chair</td>\n",
       "      <td>25315</td>\n",
       "      <td>5.68</td>\n",
       "    </tr>\n",
       "    <tr>\n",
       "      <th>8</th>\n",
       "      <td>Sitdown_chair</td>\n",
       "      <td>24936</td>\n",
       "      <td>5.59</td>\n",
       "    </tr>\n",
       "    <tr>\n",
       "      <th>9</th>\n",
       "      <td>Comb_hair</td>\n",
       "      <td>23473</td>\n",
       "      <td>5.27</td>\n",
       "    </tr>\n",
       "    <tr>\n",
       "      <th>10</th>\n",
       "      <td>Descend_stairs</td>\n",
       "      <td>15333</td>\n",
       "      <td>3.44</td>\n",
       "    </tr>\n",
       "    <tr>\n",
       "      <th>11</th>\n",
       "      <td>Use_telephone</td>\n",
       "      <td>15212</td>\n",
       "      <td>3.41</td>\n",
       "    </tr>\n",
       "    <tr>\n",
       "      <th>12</th>\n",
       "      <td>Liedown_bed</td>\n",
       "      <td>11418</td>\n",
       "      <td>2.56</td>\n",
       "    </tr>\n",
       "    <tr>\n",
       "      <th>13</th>\n",
       "      <td>Eat_soup</td>\n",
       "      <td>6680</td>\n",
       "      <td>1.50</td>\n",
       "    </tr>\n",
       "  </tbody>\n",
       "</table>\n",
       "</div>"
      ],
      "text/plain": [
       "          movement  occurrences  frequency(percentage)\n",
       "0             Walk        92154                  20.68\n",
       "1        Getup_bed        45700                  10.25\n",
       "2      Drink_glass        42692                   9.58\n",
       "3       Pour_water        41573                   9.33\n",
       "4     Climb_stairs        40156                   9.01\n",
       "5         Eat_meat        31231                   7.01\n",
       "6      Brush_teeth        29817                   6.69\n",
       "7    Standup_chair        25315                   5.68\n",
       "8    Sitdown_chair        24936                   5.59\n",
       "9        Comb_hair        23473                   5.27\n",
       "10  Descend_stairs        15333                   3.44\n",
       "11   Use_telephone        15212                   3.41\n",
       "12     Liedown_bed        11418                   2.56\n",
       "13        Eat_soup         6680                   1.50"
      ]
     },
     "execution_count": 23,
     "metadata": {},
     "output_type": "execute_result"
    }
   ],
   "source": [
    "df_movement['frequency(percentage)'] = (100*df_movement['occurrences']/total_rows)\n",
    "df_movement['frequency(percentage)'] = df_movement['frequency(percentage)'].round(decimals=2)\n",
    "df_movement"
   ]
  },
  {
   "cell_type": "markdown",
   "id": "12db070a",
   "metadata": {},
   "source": [
    "Just as with the previous df_sex table, here with have the count of measurements separated by movement type, as well as their relative frequencies"
   ]
  },
  {
   "cell_type": "markdown",
   "id": "3b7de573",
   "metadata": {},
   "source": [
    "### 2 - Correlation between the three acceleration axes"
   ]
  },
  {
   "cell_type": "code",
   "execution_count": 24,
   "id": "b08f2622",
   "metadata": {},
   "outputs": [
    {
     "data": {
      "text/html": [
       "<div>\n",
       "<style scoped>\n",
       "    .dataframe tbody tr th:only-of-type {\n",
       "        vertical-align: middle;\n",
       "    }\n",
       "\n",
       "    .dataframe tbody tr th {\n",
       "        vertical-align: top;\n",
       "    }\n",
       "\n",
       "    .dataframe thead th {\n",
       "        text-align: right;\n",
       "    }\n",
       "</style>\n",
       "<table border=\"1\" class=\"dataframe\">\n",
       "  <thead>\n",
       "    <tr style=\"text-align: right;\">\n",
       "      <th></th>\n",
       "      <th>x_axis</th>\n",
       "      <th>y_axis</th>\n",
       "      <th>z_axis</th>\n",
       "    </tr>\n",
       "  </thead>\n",
       "  <tbody>\n",
       "    <tr>\n",
       "      <th>x_axis</th>\n",
       "      <td>1.000</td>\n",
       "      <td>-0.037</td>\n",
       "      <td>0.603</td>\n",
       "    </tr>\n",
       "    <tr>\n",
       "      <th>y_axis</th>\n",
       "      <td>-0.037</td>\n",
       "      <td>1.000</td>\n",
       "      <td>-0.167</td>\n",
       "    </tr>\n",
       "    <tr>\n",
       "      <th>z_axis</th>\n",
       "      <td>0.603</td>\n",
       "      <td>-0.167</td>\n",
       "      <td>1.000</td>\n",
       "    </tr>\n",
       "  </tbody>\n",
       "</table>\n",
       "</div>"
      ],
      "text/plain": [
       "        x_axis  y_axis  z_axis\n",
       "x_axis   1.000  -0.037   0.603\n",
       "y_axis  -0.037   1.000  -0.167\n",
       "z_axis   0.603  -0.167   1.000"
      ]
     },
     "execution_count": 24,
     "metadata": {},
     "output_type": "execute_result"
    }
   ],
   "source": [
    "df.corr().round(decimals=3)"
   ]
  },
  {
   "cell_type": "markdown",
   "id": "4fa7f815",
   "metadata": {},
   "source": [
    "In the above correlation table, we can see the x and y axes have negligible correlation between them; while the x-axis has considerable positive correlation with z-axis acceleration and the y axis has a moderate negative correlation with the z-axis."
   ]
  },
  {
   "cell_type": "markdown",
   "id": "994f4acf",
   "metadata": {},
   "source": [
    "### 3 - Histogram of X-Axis movement\n",
    "Creating two x-axis histograms with two different granularities"
   ]
  },
  {
   "cell_type": "code",
   "execution_count": 25,
   "id": "8a4d0aad",
   "metadata": {},
   "outputs": [
    {
     "data": {
      "text/plain": [
       "<AxesSubplot:>"
      ]
     },
     "execution_count": 25,
     "metadata": {},
     "output_type": "execute_result"
    },
    {
     "data": {
      "image/png": "[encoded data removed]",
      "text/plain": [
       "<Figure size 432x288 with 1 Axes>"
      ]
     },
     "metadata": {
      "needs_background": "light"
     },
     "output_type": "display_data"
    }
   ],
   "source": [
    "df['x_axis'].hist(bins=60)"
   ]
  },
  {
   "cell_type": "code",
   "execution_count": 27,
   "id": "a04809c6",
   "metadata": {
    "scrolled": true
   },
   "outputs": [
    {
     "data": {
      "text/plain": [
       "<AxesSubplot:>"
      ]
     },
     "execution_count": 27,
     "metadata": {},
     "output_type": "execute_result"
    },
    {
     "data": {
      "image/png": "[encoded data removed]",
      "text/plain": [
       "<Figure size 432x288 with 1 Axes>"
      ]
     },
     "metadata": {
      "needs_background": "light"
     },
     "output_type": "display_data"
    }
   ],
   "source": [
    "df['x_axis'].hist(bins=20)"
   ]
  },
  {
   "cell_type": "markdown",
   "id": "cf397614",
   "metadata": {},
   "source": [
    "By analysing the graph, the x-axis accelerations seem to fall roughly under a bimodal distribution, with a concentration around 14 and another around 33."
   ]
  },
  {
   "cell_type": "markdown",
   "id": "5ddb25bb",
   "metadata": {},
   "source": [
    "### 4 - Plot of number of occurrences per movement"
   ]
  },
  {
   "cell_type": "code",
   "execution_count": 28,
   "id": "5415b446",
   "metadata": {},
   "outputs": [
    {
     "data": {
      "text/html": [
       "<div>\n",
       "<style scoped>\n",
       "    .dataframe tbody tr th:only-of-type {\n",
       "        vertical-align: middle;\n",
       "    }\n",
       "\n",
       "    .dataframe tbody tr th {\n",
       "        vertical-align: top;\n",
       "    }\n",
       "\n",
       "    .dataframe thead th {\n",
       "        text-align: right;\n",
       "    }\n",
       "</style>\n",
       "<table border=\"1\" class=\"dataframe\">\n",
       "  <thead>\n",
       "    <tr style=\"text-align: right;\">\n",
       "      <th></th>\n",
       "      <th>movement</th>\n",
       "      <th>occurrences</th>\n",
       "    </tr>\n",
       "  </thead>\n",
       "  <tbody>\n",
       "    <tr>\n",
       "      <th>0</th>\n",
       "      <td>Walk</td>\n",
       "      <td>92154</td>\n",
       "    </tr>\n",
       "    <tr>\n",
       "      <th>1</th>\n",
       "      <td>Getup_bed</td>\n",
       "      <td>45700</td>\n",
       "    </tr>\n",
       "    <tr>\n",
       "      <th>2</th>\n",
       "      <td>Drink_glass</td>\n",
       "      <td>42692</td>\n",
       "    </tr>\n",
       "    <tr>\n",
       "      <th>3</th>\n",
       "      <td>Pour_water</td>\n",
       "      <td>41573</td>\n",
       "    </tr>\n",
       "    <tr>\n",
       "      <th>4</th>\n",
       "      <td>Climb_stairs</td>\n",
       "      <td>40156</td>\n",
       "    </tr>\n",
       "    <tr>\n",
       "      <th>5</th>\n",
       "      <td>Eat_meat</td>\n",
       "      <td>31231</td>\n",
       "    </tr>\n",
       "    <tr>\n",
       "      <th>6</th>\n",
       "      <td>Brush_teeth</td>\n",
       "      <td>29817</td>\n",
       "    </tr>\n",
       "    <tr>\n",
       "      <th>7</th>\n",
       "      <td>Standup_chair</td>\n",
       "      <td>25315</td>\n",
       "    </tr>\n",
       "    <tr>\n",
       "      <th>8</th>\n",
       "      <td>Sitdown_chair</td>\n",
       "      <td>24936</td>\n",
       "    </tr>\n",
       "    <tr>\n",
       "      <th>9</th>\n",
       "      <td>Comb_hair</td>\n",
       "      <td>23473</td>\n",
       "    </tr>\n",
       "    <tr>\n",
       "      <th>10</th>\n",
       "      <td>Descend_stairs</td>\n",
       "      <td>15333</td>\n",
       "    </tr>\n",
       "    <tr>\n",
       "      <th>11</th>\n",
       "      <td>Use_telephone</td>\n",
       "      <td>15212</td>\n",
       "    </tr>\n",
       "    <tr>\n",
       "      <th>12</th>\n",
       "      <td>Liedown_bed</td>\n",
       "      <td>11418</td>\n",
       "    </tr>\n",
       "    <tr>\n",
       "      <th>13</th>\n",
       "      <td>Eat_soup</td>\n",
       "      <td>6680</td>\n",
       "    </tr>\n",
       "  </tbody>\n",
       "</table>\n",
       "</div>"
      ],
      "text/plain": [
       "          movement  occurrences\n",
       "0             Walk        92154\n",
       "1        Getup_bed        45700\n",
       "2      Drink_glass        42692\n",
       "3       Pour_water        41573\n",
       "4     Climb_stairs        40156\n",
       "5         Eat_meat        31231\n",
       "6      Brush_teeth        29817\n",
       "7    Standup_chair        25315\n",
       "8    Sitdown_chair        24936\n",
       "9        Comb_hair        23473\n",
       "10  Descend_stairs        15333\n",
       "11   Use_telephone        15212\n",
       "12     Liedown_bed        11418\n",
       "13        Eat_soup         6680"
      ]
     },
     "execution_count": 28,
     "metadata": {},
     "output_type": "execute_result"
    }
   ],
   "source": [
    "df_movement_count = (df['movement'].value_counts()).rename_axis('movement').reset_index(name='occurrences')\n",
    "df_movement_count"
   ]
  },
  {
   "cell_type": "code",
   "execution_count": 29,
   "id": "687ec303",
   "metadata": {},
   "outputs": [
    {
     "data": {
      "text/plain": [
       "<AxesSubplot:>"
      ]
     },
     "execution_count": 29,
     "metadata": {},
     "output_type": "execute_result"
    },
    {
     "data": {
      "image/png": "[encoded data removed]",
      "text/plain": [
       "<Figure size 432x288 with 1 Axes>"
      ]
     },
     "metadata": {
      "needs_background": "light"
     },
     "output_type": "display_data"
    }
   ],
   "source": [
    "df_movement_count.plot(kind='bar')"
   ]
  },
  {
   "cell_type": "markdown",
   "id": "bbecdbbe",
   "metadata": {},
   "source": [
    "The plot brings in visual form the amount of data the dataset has on each movement. We can see the most measurements we have is of the walking motion (labeled 0, with 92154 measurements) and the one we have the least measurements of is the soup eating movement (labeled 13, with 6680 measurements)"
   ]
  }
 ],
 "metadata": {
  "kernelspec": {
   "display_name": "Python 3",
   "language": "python",
   "name": "python3"
  },
  "language_info": {
   "codemirror_mode": {
    "name": "ipython",
    "version": 3
   },
   "file_extension": ".py",
   "mimetype": "text/x-python",
   "name": "python",
   "nbconvert_exporter": "python",
   "pygments_lexer": "ipython3",
   "version": "3.8.8"
  }
 },
 "nbformat": 4,
 "nbformat_minor": 5
}
